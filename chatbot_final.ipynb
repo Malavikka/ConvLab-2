{
  "nbformat": 4,
  "nbformat_minor": 0,
  "metadata": {
    "colab": {
      "name": "chatbot_final",
      "provenance": [],
      "authorship_tag": "ABX9TyNLaa20Oh5JI00FWIuzhZ4T",
      "include_colab_link": true
    },
    "kernelspec": {
      "name": "python3",
      "display_name": "Python 3"
    }
  },
  "cells": [
    {
      "cell_type": "markdown",
      "metadata": {
        "id": "view-in-github",
        "colab_type": "text"
      },
      "source": [
        "<a href=\"https://colab.research.google.com/github/Malavikka/ConvLab-2/blob/master/chatbot_final.ipynb\" target=\"_parent\"><img src=\"https://colab.research.google.com/assets/colab-badge.svg\" alt=\"Open In Colab\"/></a>"
      ]
    },
    {
      "cell_type": "code",
      "metadata": {
        "id": "b3IAFkde_UZj",
        "colab_type": "code",
        "colab": {}
      },
      "source": [
        "!git clone https://github.com/Malavikka/ConvLab-2.git && cd ConvLab-2 && pip install -e ."
      ],
      "execution_count": null,
      "outputs": []
    },
    {
      "cell_type": "code",
      "metadata": {
        "id": "ONL5EQYNGh8s",
        "colab_type": "code",
        "colab": {}
      },
      "source": [
        "!pip install flask_ngrok"
      ],
      "execution_count": null,
      "outputs": []
    },
    {
      "cell_type": "code",
      "metadata": {
        "id": "cxwdEQ06GnlL",
        "colab_type": "code",
        "colab": {}
      },
      "source": [
        "!python /content/ConvLab-2/deploy/app.py"
      ],
      "execution_count": null,
      "outputs": []
    },
    {
      "cell_type": "code",
      "metadata": {
        "id": "4w0NdbsyHuqJ",
        "colab_type": "code",
        "colab": {}
      },
      "source": [
        ""
      ],
      "execution_count": null,
      "outputs": []
    }
  ]
}